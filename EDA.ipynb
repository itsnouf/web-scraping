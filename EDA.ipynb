{
  "nbformat": 4,
  "nbformat_minor": 0,
  "metadata": {
    "colab": {
      "provenance": []
    },
    "kernelspec": {
      "name": "python3",
      "display_name": "Python 3"
    },
    "language_info": {
      "name": "python"
    }
  },
  "cells": [
    {
      "cell_type": "markdown",
      "source": [
        "# **EDA**"
      ],
      "metadata": {
        "id": "v-0kMAIjLWrY"
      }
    },
    {
      "cell_type": "code",
      "execution_count": null,
      "metadata": {
        "id": "yeSIYjHsLRUK"
      },
      "outputs": [],
      "source": [
        "import matplotlib.pyplot as plt\n",
        "import requests\n",
        "import pandas as pd\n",
        "from bs4 import BeautifulSoup"
      ]
    },
    {
      "cell_type": "code",
      "source": [
        "df = pd.read_csv(\"pokemon.csv\")\n",
        "\n",
        "\n",
        "df.head()\n",
        "df.info()\n",
        "df.describe(include=\"all\")\n",
        "print(\"\\n missing values:\")\n",
        "df.isnull().sum()\n",
        "\n",
        "print(\"dataset shape:\", df.shape)\n"
      ],
      "metadata": {
        "id": "PDy-zhm9LblN"
      },
      "execution_count": null,
      "outputs": []
    },
    {
      "cell_type": "code",
      "source": [
        "#best 10 pokemon\n",
        "df[\"product_name\"].value_counts().head(10)\n"
      ],
      "metadata": {
        "id": "uMYNkXV7LlZq"
      },
      "execution_count": null,
      "outputs": []
    },
    {
      "cell_type": "code",
      "source": [
        "#Price distribution:\n",
        "#removing the sympol and converting it to a floate\n",
        "\n",
        "df[\"product_price\"] = df[\"product_price\"].str.replace(\"£\",\"\").astype(float)  # clean price\n",
        "df[\"product_price\"].hist(bins=20)\n",
        "\n",
        "print(\"\\nPrice Summary:\")\n",
        "print(df[\"product_price\"].describe())\n"
      ],
      "metadata": {
        "id": "vmO11DshLnfj"
      },
      "execution_count": null,
      "outputs": []
    },
    {
      "cell_type": "markdown",
      "source": [
        "# **histograms for numrics**"
      ],
      "metadata": {
        "id": "DSJuczecMlN6"
      }
    },
    {
      "cell_type": "code",
      "source": [
        "for col in df.columns:\n",
        "\n",
        "    if pd.api.types.is_numeric_dtype(df[col]):\n",
        "        plt.figure(figsize=(6,4))\n",
        "        df[col].plot(kind=\"hist\", bins=10, title=f\"Histogram of {col}\")\n",
        "        plt.xlabel(col)\n",
        "        plt.show()"
      ],
      "metadata": {
        "id": "d3MqXVP0Lxt2"
      },
      "execution_count": null,
      "outputs": []
    }
  ]
}